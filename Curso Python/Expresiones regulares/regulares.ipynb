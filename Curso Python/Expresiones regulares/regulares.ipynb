{
 "metadata": {
  "language_info": {
   "codemirror_mode": {
    "name": "ipython",
    "version": 3
   },
   "file_extension": ".py",
   "mimetype": "text/x-python",
   "name": "python",
   "nbconvert_exporter": "python",
   "pygments_lexer": "ipython3",
   "version": "3.8.4-final"
  },
  "orig_nbformat": 2,
  "kernelspec": {
   "name": "Python 3.8.4 32-bit",
   "display_name": "Python 3.8.4 32-bit",
   "metadata": {
    "interpreter": {
     "hash": "e3c4aa46e0bb462a1bd21f28162d765edef3fca9214488d22912d5eccd5b978f"
    }
   }
  }
 },
 "nbformat": 4,
 "nbformat_minor": 2,
 "cells": [
  {
   "cell_type": "code",
   "execution_count": 2,
   "metadata": {},
   "outputs": [
    {
     "output_type": "execute_result",
     "data": {
      "text/plain": [
       "<re.Match object; span=(39, 45), match='mágica'>"
      ]
     },
     "metadata": {},
     "execution_count": 2
    }
   ],
   "source": [
    "import re\n",
    "\n",
    "texto = \"En esta cadena se encuenta una palabra mágica\"\n",
    "\n",
    "re.search('mágica',texto)"
   ]
  },
  {
   "cell_type": "code",
   "execution_count": 3,
   "metadata": {},
   "outputs": [],
   "source": [
    "re.search('hola',texto)"
   ]
  },
  {
   "cell_type": "code",
   "execution_count": 8,
   "metadata": {},
   "outputs": [],
   "source": [
    "palabra = \"mágica\"\n",
    "\n",
    "encontrado= re.search(palabra,texto)"
   ]
  },
  {
   "cell_type": "code",
   "execution_count": 9,
   "metadata": {},
   "outputs": [
    {
     "output_type": "stream",
     "name": "stdout",
     "text": [
      "Se ha encontrado la palabra\n"
     ]
    }
   ],
   "source": [
    "if encontrado is not None:\n",
    "    print(\"Se ha encontrado la palabra\")\n",
    "else:\n",
    "    print(\"No se ha encontrado la palabra\")"
   ]
  },
  {
   "cell_type": "code",
   "execution_count": 10,
   "metadata": {},
   "outputs": [
    {
     "output_type": "execute_result",
     "data": {
      "text/plain": [
       "39"
      ]
     },
     "metadata": {},
     "execution_count": 10
    }
   ],
   "source": [
    "encontrado.start()"
   ]
  },
  {
   "cell_type": "code",
   "execution_count": 11,
   "metadata": {},
   "outputs": [
    {
     "output_type": "execute_result",
     "data": {
      "text/plain": [
       "'En esta cadena se encuenta una palabra mágica'"
      ]
     },
     "metadata": {},
     "execution_count": 11
    }
   ],
   "source": [
    "encontrado.string"
   ]
  },
  {
   "cell_type": "code",
   "execution_count": 12,
   "metadata": {},
   "outputs": [
    {
     "output_type": "execute_result",
     "data": {
      "text/plain": [
       "<re.Match object; span=(0, 4), match='Hola'>"
      ]
     },
     "metadata": {},
     "execution_count": 12
    }
   ],
   "source": [
    "texto = \"Hola mundo\"\n",
    "re.match(\"Hola\", texto)"
   ]
  },
  {
   "cell_type": "code",
   "execution_count": 13,
   "metadata": {},
   "outputs": [
    {
     "output_type": "execute_result",
     "data": {
      "text/plain": [
       "['Vamos', 'a', 'dividir', 'esta', 'cadena']"
      ]
     },
     "metadata": {},
     "execution_count": 13
    }
   ],
   "source": [
    "texto=\"Vamos a dividir esta cadena\"\n",
    "re.split(' ',texto)"
   ]
  },
  {
   "cell_type": "code",
   "execution_count": 14,
   "metadata": {},
   "outputs": [
    {
     "output_type": "execute_result",
     "data": {
      "text/plain": [
       "'Hola amiga'"
      ]
     },
     "metadata": {},
     "execution_count": 14
    }
   ],
   "source": [
    "texto = \"Hola amigo\"\n",
    "re.sub(\"amigo\",\"amiga\",texto)"
   ]
  },
  {
   "cell_type": "code",
   "execution_count": 16,
   "metadata": {},
   "outputs": [
    {
     "output_type": "execute_result",
     "data": {
      "text/plain": [
       "3"
      ]
     },
     "metadata": {},
     "execution_count": 16
    }
   ],
   "source": [
    "texto=\"hola adios hola hola\"\n",
    "len(re.findall(\"hola\",texto))"
   ]
  },
  {
   "cell_type": "code",
   "execution_count": 18,
   "metadata": {},
   "outputs": [
    {
     "output_type": "execute_result",
     "data": {
      "text/plain": [
       "2"
      ]
     },
     "metadata": {},
     "execution_count": 18
    }
   ],
   "source": [
    "texto = \"hola adios hello bye\"\n",
    "len(re.findall(\"hola|hello\",texto))"
   ]
  },
  {
   "cell_type": "code",
   "execution_count": 19,
   "metadata": {},
   "outputs": [
    {
     "output_type": "execute_result",
     "data": {
      "text/plain": [
       "['hla']"
      ]
     },
     "metadata": {},
     "execution_count": 19
    }
   ],
   "source": [
    "texto = \"hla hola hoola hoooola\"\n",
    "re.findall(\"hla\",texto)"
   ]
  },
  {
   "cell_type": "code",
   "execution_count": 20,
   "metadata": {},
   "outputs": [
    {
     "output_type": "stream",
     "name": "stdout",
     "text": [
      "['hla']\n['hola']\n['hoola']\n"
     ]
    }
   ],
   "source": [
    "def buscar(patrones,texto):\n",
    "    for patron in patrones:\n",
    "        print(re.findall(patron,texto))\n",
    "\n",
    "patrones = ['hla', 'hola', 'hoola']\n",
    "buscar(patrones,texto)"
   ]
  },
  {
   "cell_type": "code",
   "execution_count": 24,
   "metadata": {},
   "outputs": [
    {
     "output_type": "stream",
     "name": "stdout",
     "text": [
      "['ho', 'ho', 'ho']\n['hla']\n"
     ]
    }
   ],
   "source": [
    "texto = \"hla hola hoola hoooola\"\n",
    "\n",
    "patrones = ['ho','hu*la']\n",
    "\n",
    "buscar(patrones,texto)"
   ]
  },
  {
   "cell_type": "code",
   "execution_count": 30,
   "metadata": {},
   "outputs": [
    {
     "output_type": "stream",
     "name": "stdout",
     "text": [
      "['hla', 'hola', 'hoola', 'hoooola', 'hoooooola']\n['hola', 'hoola', 'hoooola', 'hoooooola']\n"
     ]
    }
   ],
   "source": [
    "texto = \"hla hola hoola hoooola hoooooola\"\n",
    "\n",
    "patrones = ['ho*la', 'ho+la']\n",
    "\n",
    "buscar(patrones, texto)"
   ]
  },
  {
   "cell_type": "code",
   "execution_count": 33,
   "metadata": {},
   "outputs": [
    {
     "output_type": "stream",
     "name": "stdout",
     "text": [
      "['hla', 'hola', 'hoola', 'hoooola', 'hoooooola']\n['hola', 'hoola', 'hoooola', 'hoooooola']\n['h', 'ho', 'ho', 'ho', 'ho']\n['hla', 'hola']\n"
     ]
    }
   ],
   "source": [
    "texto = \"hla hola hoola hoooola hoooooola\"\n",
    "\n",
    "patrones = ['ho*la', 'ho+la','ho?','ho?la']\n",
    "\n",
    "buscar(patrones, texto)"
   ]
  },
  {
   "cell_type": "code",
   "execution_count": 38,
   "metadata": {},
   "outputs": [
    {
     "output_type": "stream",
     "name": "stdout",
     "text": [
      "['hla']\n['hola']\n['hoooola']\n"
     ]
    }
   ],
   "source": [
    "texto = \"hla hola hoola hoooola hoooooola\"\n",
    "\n",
    "patrones = ['ho{0}la','ho{1}la','ho{4}la']\n",
    "\n",
    "buscar(patrones, texto)"
   ]
  },
  {
   "cell_type": "code",
   "execution_count": 43,
   "metadata": {},
   "outputs": [
    {
     "output_type": "stream",
     "name": "stdout",
     "text": [
      "['hola', 'hula']\n['hala', 'hila', 'hola']\n"
     ]
    }
   ],
   "source": [
    "texto = \"hala hela hila hola hula\"\n",
    "\n",
    "patrones = ['h[ou]la','h[aio]la']\n",
    "\n",
    "buscar(patrones, texto)"
   ]
  },
  {
   "cell_type": "code",
   "execution_count": 46,
   "metadata": {},
   "outputs": [
    {
     "output_type": "stream",
     "name": "stdout",
     "text": [
      "[]\n['haala', 'heeela']\n"
     ]
    }
   ],
   "source": [
    "texto = \"haala heeela hiiiila hooooola \"\n",
    "\n",
    "patrones = ['h[ae]la','h[ae]*la']\n",
    "\n",
    "buscar(patrones, texto)"
   ]
  },
  {
   "cell_type": "code",
   "execution_count": 49,
   "metadata": {},
   "outputs": [
    {
     "output_type": "stream",
     "name": "stdout",
     "text": [
      "['hola']\n['hala', 'hela', 'hila', 'hula']\n"
     ]
    }
   ],
   "source": [
    "texto = \"hala hela hila hola hula\"\n",
    "\n",
    "patrones = ['h[o]la','h[^o]la']\n",
    "\n",
    "buscar(patrones, texto)"
   ]
  },
  {
   "cell_type": "code",
   "execution_count": 52,
   "metadata": {},
   "outputs": [
    {
     "output_type": "stream",
     "name": "stdout",
     "text": [
      "['hola']\n['h0la']\n['hola', 'Hola', 'mola']\n"
     ]
    }
   ],
   "source": [
    "texto = \"hola h0la Hola mola m0la M0la\"\n",
    "\n",
    "patrones = ['h[a-z]la','h[0-9]la','[A-z]{4}']\n",
    "\n",
    "buscar(patrones, texto)"
   ]
  },
  {
   "cell_type": "code",
   "execution_count": 57,
   "metadata": {},
   "outputs": [
    {
     "output_type": "stream",
     "name": "stdout",
     "text": [
      "['3', '2', '0', '1', '6']\n['3', '2016']\n['E', 's', 't', 'e', ' ', 'c', 'u', 'r', 's', 'o', ' ', 'd', 'e', ' ', 'p', 'y', 't', 'h', 'o', 'n', ' ', ' ', 's', 'e', ' ', 'p', 'u', 'b', 'l', 'i', 'c', 'ó', ' ', 'e', 'n', ' ', 'e', 'l', ' ']\n['Este curso de python ', ' se publicó en el ']\n"
     ]
    }
   ],
   "source": [
    "texto = \"Este curso de python 3 se publicó en el 2016\"\n",
    "\n",
    "patrones = [r'\\d',r'\\d+',r'\\D',r'\\D+']\n",
    "\n",
    "buscar(patrones, texto)"
   ]
  },
  {
   "cell_type": "code",
   "execution_count": null,
   "metadata": {},
   "outputs": [],
   "source": []
  }
 ]
}